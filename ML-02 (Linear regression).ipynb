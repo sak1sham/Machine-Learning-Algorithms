{
 "cells": [
  {
   "cell_type": "code",
   "execution_count": 1,
   "metadata": {},
   "outputs": [],
   "source": [
    "import pandas as pd\n",
    "import matplotlib.pyplot as plt\n",
    "import numpy as np\n",
    "import seaborn as sns"
   ]
  },
  {
   "cell_type": "code",
   "execution_count": 2,
   "metadata": {},
   "outputs": [
    {
     "data": {
      "text/html": [
       "<div>\n",
       "<style scoped>\n",
       "    .dataframe tbody tr th:only-of-type {\n",
       "        vertical-align: middle;\n",
       "    }\n",
       "\n",
       "    .dataframe tbody tr th {\n",
       "        vertical-align: top;\n",
       "    }\n",
       "\n",
       "    .dataframe thead th {\n",
       "        text-align: right;\n",
       "    }\n",
       "</style>\n",
       "<table border=\"1\" class=\"dataframe\">\n",
       "  <thead>\n",
       "    <tr style=\"text-align: right;\">\n",
       "      <th></th>\n",
       "      <th>x</th>\n",
       "      <th>y</th>\n",
       "    </tr>\n",
       "  </thead>\n",
       "  <tbody>\n",
       "    <tr>\n",
       "      <th>0</th>\n",
       "      <td>1.0</td>\n",
       "      <td>0.7</td>\n",
       "    </tr>\n",
       "    <tr>\n",
       "      <th>1</th>\n",
       "      <td>1.5</td>\n",
       "      <td>2.0</td>\n",
       "    </tr>\n",
       "    <tr>\n",
       "      <th>2</th>\n",
       "      <td>3.0</td>\n",
       "      <td>3.0</td>\n",
       "    </tr>\n",
       "    <tr>\n",
       "      <th>3</th>\n",
       "      <td>4.0</td>\n",
       "      <td>4.5</td>\n",
       "    </tr>\n",
       "    <tr>\n",
       "      <th>4</th>\n",
       "      <td>5.2</td>\n",
       "      <td>5.5</td>\n",
       "    </tr>\n",
       "  </tbody>\n",
       "</table>\n",
       "</div>"
      ],
      "text/plain": [
       "     x    y\n",
       "0  1.0  0.7\n",
       "1  1.5  2.0\n",
       "2  3.0  3.0\n",
       "3  4.0  4.5\n",
       "4  5.2  5.5"
      ]
     },
     "execution_count": 2,
     "metadata": {},
     "output_type": "execute_result"
    }
   ],
   "source": [
    "df = pd.read_csv('Linear-Regression.csv')\n",
    "df.head()"
   ]
  },
  {
   "cell_type": "code",
   "execution_count": 3,
   "metadata": {},
   "outputs": [
    {
     "data": {
      "text/plain": [
       "<seaborn.axisgrid.FacetGrid at 0x25fda1b1e20>"
      ]
     },
     "execution_count": 3,
     "metadata": {},
     "output_type": "execute_result"
    },
    {
     "data": {
      "image/png": "[encoded data removed]",
      "text/plain": [
       "<Figure size 360x360 with 1 Axes>"
      ]
     },
     "metadata": {
      "needs_background": "light"
     },
     "output_type": "display_data"
    }
   ],
   "source": [
    "sns.relplot(x = 'x', y = 'y', data = df)"
   ]
  },
  {
   "cell_type": "markdown",
   "metadata": {},
   "source": [
    "# GRADIENT DESCENT"
   ]
  },
  {
   "cell_type": "code",
   "execution_count": 4,
   "metadata": {},
   "outputs": [],
   "source": [
    "class LinearRegression:\n",
    "    def __init__(self, learning_rate = 0.001, iters = 1000):\n",
    "        self.alpha = learning_rate\n",
    "        self.iters = iters\n",
    "        self.weights = None\n",
    "        self.bias = None\n",
    "    def fit(self, X, y):\n",
    "        m = len(X)\n",
    "        n = len(X[0,:])\n",
    "        \n",
    "        ### m = number of examples and n = number of features.\n",
    "        \n",
    "        self.bias = np.random.rand()\n",
    "        self.weights = np.random.randn(n).reshape(n,1)\n",
    "        ## J = (1/2m) * np.sum((X.W - Y)**2)\n",
    "        for it in range(self.iters):\n",
    "            derivative = (np.dot(X,self.weights) - y) + np.full((m,1), self.bias)\n",
    "            self.weights = self.weights - (self.alpha/m)*np.dot(X.T, derivative)\n",
    "            self.bias = self.bias - (self.alpha/m) * np.sum(derivative)\n",
    "    def predict(self, X):\n",
    "        return (np.dot(X, self.weights) + self.bias)"
   ]
  },
  {
   "cell_type": "code",
   "execution_count": 5,
   "metadata": {},
   "outputs": [
    {
     "name": "stdout",
     "output_type": "stream",
     "text": [
      "[[0.83968152]]\n",
      "0.8518599964781847\n"
     ]
    }
   ],
   "source": [
    "m = len(df)\n",
    "X = df['x'].values.reshape(m,1)\n",
    "y = df['y'].values.reshape(m,1)\n",
    "clf = LinearRegression()\n",
    "clf.fit(X,y)\n",
    "print(clf.weights)\n",
    "print(clf.bias)"
   ]
  },
  {
   "cell_type": "code",
   "execution_count": 6,
   "metadata": {},
   "outputs": [
    {
     "data": {
      "text/plain": [
       "[<matplotlib.lines.Line2D at 0x25fdc30bd90>]"
      ]
     },
     "execution_count": 6,
     "metadata": {},
     "output_type": "execute_result"
    },
    {
     "data": {
      "image/png": "[encoded data removed]",
      "text/plain": [
       "<Figure size 432x288 with 1 Axes>"
      ]
     },
     "metadata": {
      "needs_background": "light"
     },
     "output_type": "display_data"
    }
   ],
   "source": [
    "X_plot = np.arange(0,6, 0.2)\n",
    "Y_plot = clf.weights[0] * X_plot + clf.bias\n",
    "plt.scatter(X, y, c='green')\n",
    "plt.plot(X_plot, Y_plot, c= \"red\", marker='.', linestyle='--')"
   ]
  },
  {
   "cell_type": "markdown",
   "metadata": {},
   "source": [
    "# NORMAL EQUATION"
   ]
  },
  {
   "cell_type": "code",
   "execution_count": 7,
   "metadata": {},
   "outputs": [],
   "source": [
    "class LinearRegression:\n",
    "    def __init__(self, learning_rate = 0.001, iters = 1000):\n",
    "        self.alpha = learning_rate\n",
    "        self.iters = iters\n",
    "        self.weights = None\n",
    "        self.bias = None\n",
    "    def fit(self, X, y):\n",
    "        o = np.ones(len(X)).reshape(len(X), 1)\n",
    "        X = np.concatenate((X, o), axis = 1)\n",
    "        parameters = np.dot(np.linalg.inv(np.dot(X.T, X)), np.dot(X.T, y))\n",
    "        #print(parameters)\n",
    "        self.bias = parameters[-1, 0]\n",
    "        self.weights = parameters[:-1,0]\n",
    "    def predict(self, X):\n",
    "        return (np.dot(X, self.weights) + self.bias)"
   ]
  },
  {
   "cell_type": "code",
   "execution_count": 8,
   "metadata": {},
   "outputs": [
    {
     "name": "stdout",
     "output_type": "stream",
     "text": [
      "[1.11850913]\n",
      "-0.11464852002580628\n"
     ]
    }
   ],
   "source": [
    "X = df['x'].values.reshape(m,1)\n",
    "y = df['y'].values.reshape(m,1)\n",
    "clf = LinearRegression()\n",
    "clf.fit(X,y)\n",
    "print(clf.weights)\n",
    "print(clf.bias)"
   ]
  },
  {
   "cell_type": "code",
   "execution_count": 9,
   "metadata": {},
   "outputs": [
    {
     "data": {
      "text/plain": [
       "[<matplotlib.lines.Line2D at 0x25fdc368910>]"
      ]
     },
     "execution_count": 9,
     "metadata": {},
     "output_type": "execute_result"
    },
    {
     "data": {
      "image/png": "[encoded data removed]",
      "text/plain": [
       "<Figure size 432x288 with 1 Axes>"
      ]
     },
     "metadata": {
      "needs_background": "light"
     },
     "output_type": "display_data"
    }
   ],
   "source": [
    "X_plot = np.arange(0,6, 0.2)\n",
    "Y_plot = clf.weights[0] * X_plot + clf.bias\n",
    "plt.scatter(X, y, c='green')\n",
    "plt.plot(X_plot, Y_plot, c= \"red\", marker='.', linestyle='--')"
   ]
  },
  {
   "cell_type": "markdown",
   "metadata": {},
   "source": [
    "# Numerical Methods for 1 feature inputs"
   ]
  },
  {
   "cell_type": "code",
   "execution_count": 10,
   "metadata": {},
   "outputs": [],
   "source": [
    "class LinearRegression:\n",
    "    def __init__(self, learning_rate = 0.001, iters = 1000):\n",
    "        self.alpha = learning_rate\n",
    "        self.iters = iters\n",
    "        self.weight = None\n",
    "        self.bias = None\n",
    "    def fit(self, X, y):\n",
    "        n = len(X)\n",
    "        self.weight = ((n * np.sum(X*y))-(np.sum(X)*np.sum(y)))/((n*np.sum(X**2))-(np.sum(X)*np.sum(X)))\n",
    "        self.bias = np.sum(y)/n - (self.weight * (np.sum(X)/n))\n",
    "    def predict(self, X):\n",
    "        return (np.dot(X, self.weight) + self.bias)"
   ]
  },
  {
   "cell_type": "code",
   "execution_count": 11,
   "metadata": {},
   "outputs": [
    {
     "name": "stdout",
     "output_type": "stream",
     "text": [
      "1.1185091289167601\n",
      "-0.11464852002579384\n"
     ]
    }
   ],
   "source": [
    "X = df['x'].values.reshape(m,1)\n",
    "y = df['y'].values.reshape(m,1)\n",
    "clf = LinearRegression()\n",
    "clf.fit(X,y)\n",
    "print(clf.weight)\n",
    "print(clf.bias)"
   ]
  },
  {
   "cell_type": "code",
   "execution_count": 12,
   "metadata": {},
   "outputs": [
    {
     "data": {
      "text/plain": [
       "[<matplotlib.lines.Line2D at 0x25fdc3cb280>]"
      ]
     },
     "execution_count": 12,
     "metadata": {},
     "output_type": "execute_result"
    },
    {
     "data": {
      "image/png": "[encoded data removed]",
      "text/plain": [
       "<Figure size 432x288 with 1 Axes>"
      ]
     },
     "metadata": {
      "needs_background": "light"
     },
     "output_type": "display_data"
    }
   ],
   "source": [
    "X_plot = np.arange(0,6, 0.2)\n",
    "Y_plot = clf.weight * X_plot + clf.bias\n",
    "plt.scatter(X, y, c='green')\n",
    "plt.plot(X_plot, Y_plot, c= \"red\", marker='.', linestyle='--')"
   ]
  },
  {
   "cell_type": "markdown",
   "metadata": {},
   "source": [
    "## We can see that all three types of Linear Regression algorithm are working very good. We just have to choose the most appropriate one to make the algorithm fast to learn and predict."
   ]
  }
 ],
 "metadata": {
  "kernelspec": {
   "display_name": "Python 3",
   "language": "python",
   "name": "python3"
  },
  "language_info": {
   "codemirror_mode": {
    "name": "ipython",
    "version": 3
   },
   "file_extension": ".py",
   "mimetype": "text/x-python",
   "name": "python",
   "nbconvert_exporter": "python",
   "pygments_lexer": "ipython3",
   "version": "3.8.3"
  }
 },
 "nbformat": 4,
 "nbformat_minor": 4
}
