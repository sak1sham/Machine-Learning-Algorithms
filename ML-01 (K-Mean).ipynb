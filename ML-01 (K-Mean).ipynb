{
 "cells": [
  {
   "cell_type": "markdown",
   "metadata": {},
   "source": [
    "## A simple K-Mean alogrithm to cluster a set of self-created random data"
   ]
  },
  {
   "cell_type": "code",
   "execution_count": 1,
   "metadata": {},
   "outputs": [],
   "source": [
    "import pandas as pd\n",
    "import matplotlib.pyplot as plt\n",
    "import numpy as np\n",
    "import seaborn as sns"
   ]
  },
  {
   "cell_type": "code",
   "execution_count": 2,
   "metadata": {},
   "outputs": [],
   "source": [
    "# Create the random dataset first\n",
    "\n",
    "# Values in cluster 1\n",
    "x1 = np.random.randint(0,150,70)\n",
    "y1 = np.random.randint(0,100,70)\n",
    "\n",
    "# Values in cluster 2\n",
    "x2 = np.random.randint(200,300,70)\n",
    "y2 = np.random.randint(100,300,70)\n",
    "\n",
    "m = 140\n",
    "\n",
    "# Concatenate both the clusters in a single dataset\n",
    "x = np.concatenate((x1, x2), axis = 0)\n",
    "y = np.concatenate((y1, y2), axis = 0)"
   ]
  },
  {
   "cell_type": "markdown",
   "metadata": {},
   "source": [
    "## We have got our x and y values in the dataset. Now we want to implement the k-mean algorithm"
   ]
  },
  {
   "cell_type": "code",
   "execution_count": 3,
   "metadata": {},
   "outputs": [],
   "source": [
    "df = pd.DataFrame(dict(x = x, y = y))"
   ]
  },
  {
   "cell_type": "code",
   "execution_count": 4,
   "metadata": {},
   "outputs": [
    {
     "data": {
      "text/plain": [
       "<seaborn.axisgrid.FacetGrid at 0x230391de7f0>"
      ]
     },
     "execution_count": 4,
     "metadata": {},
     "output_type": "execute_result"
    },
    {
     "data": {
      "image/png": "[encoded data removed]",
      "text/plain": [
       "<Figure size 360x360 with 1 Axes>"
      ]
     },
     "metadata": {
      "needs_background": "light"
     },
     "output_type": "display_data"
    }
   ],
   "source": [
    "# Visualising the random data we have got\n",
    "sns.relplot(data = df, x = 'x', y = 'y')"
   ]
  },
  {
   "cell_type": "code",
   "execution_count": 5,
   "metadata": {},
   "outputs": [
    {
     "data": {
      "text/html": [
       "<div>\n",
       "<style scoped>\n",
       "    .dataframe tbody tr th:only-of-type {\n",
       "        vertical-align: middle;\n",
       "    }\n",
       "\n",
       "    .dataframe tbody tr th {\n",
       "        vertical-align: top;\n",
       "    }\n",
       "\n",
       "    .dataframe thead th {\n",
       "        text-align: right;\n",
       "    }\n",
       "</style>\n",
       "<table border=\"1\" class=\"dataframe\">\n",
       "  <thead>\n",
       "    <tr style=\"text-align: right;\">\n",
       "      <th></th>\n",
       "      <th>x</th>\n",
       "      <th>y</th>\n",
       "      <th>type</th>\n",
       "    </tr>\n",
       "  </thead>\n",
       "  <tbody>\n",
       "    <tr>\n",
       "      <th>0</th>\n",
       "      <td>31</td>\n",
       "      <td>13</td>\n",
       "      <td>2</td>\n",
       "    </tr>\n",
       "    <tr>\n",
       "      <th>1</th>\n",
       "      <td>3</td>\n",
       "      <td>35</td>\n",
       "      <td>2</td>\n",
       "    </tr>\n",
       "    <tr>\n",
       "      <th>2</th>\n",
       "      <td>144</td>\n",
       "      <td>88</td>\n",
       "      <td>2</td>\n",
       "    </tr>\n",
       "    <tr>\n",
       "      <th>3</th>\n",
       "      <td>111</td>\n",
       "      <td>11</td>\n",
       "      <td>2</td>\n",
       "    </tr>\n",
       "    <tr>\n",
       "      <th>4</th>\n",
       "      <td>56</td>\n",
       "      <td>31</td>\n",
       "      <td>2</td>\n",
       "    </tr>\n",
       "    <tr>\n",
       "      <th>...</th>\n",
       "      <td>...</td>\n",
       "      <td>...</td>\n",
       "      <td>...</td>\n",
       "    </tr>\n",
       "    <tr>\n",
       "      <th>135</th>\n",
       "      <td>217</td>\n",
       "      <td>246</td>\n",
       "      <td>2</td>\n",
       "    </tr>\n",
       "    <tr>\n",
       "      <th>136</th>\n",
       "      <td>287</td>\n",
       "      <td>265</td>\n",
       "      <td>2</td>\n",
       "    </tr>\n",
       "    <tr>\n",
       "      <th>137</th>\n",
       "      <td>220</td>\n",
       "      <td>226</td>\n",
       "      <td>2</td>\n",
       "    </tr>\n",
       "    <tr>\n",
       "      <th>138</th>\n",
       "      <td>290</td>\n",
       "      <td>246</td>\n",
       "      <td>2</td>\n",
       "    </tr>\n",
       "    <tr>\n",
       "      <th>139</th>\n",
       "      <td>264</td>\n",
       "      <td>107</td>\n",
       "      <td>2</td>\n",
       "    </tr>\n",
       "  </tbody>\n",
       "</table>\n",
       "<p>140 rows × 3 columns</p>\n",
       "</div>"
      ],
      "text/plain": [
       "       x    y  type\n",
       "0     31   13     2\n",
       "1      3   35     2\n",
       "2    144   88     2\n",
       "3    111   11     2\n",
       "4     56   31     2\n",
       "..   ...  ...   ...\n",
       "135  217  246     2\n",
       "136  287  265     2\n",
       "137  220  226     2\n",
       "138  290  246     2\n",
       "139  264  107     2\n",
       "\n",
       "[140 rows x 3 columns]"
      ]
     },
     "execution_count": 5,
     "metadata": {},
     "output_type": "execute_result"
    }
   ],
   "source": [
    "# Creating a new clustering column which will store the algorithm classification\n",
    "\n",
    "df['type'] = 2\n",
    "df"
   ]
  },
  {
   "cell_type": "markdown",
   "metadata": {},
   "source": [
    "## Main algorithm:"
   ]
  },
  {
   "cell_type": "code",
   "execution_count": 6,
   "metadata": {},
   "outputs": [
    {
     "name": "stdout",
     "output_type": "stream",
     "text": [
      "[[ 11  29   2]\n",
      " [275 240   2]]\n"
     ]
    }
   ],
   "source": [
    "## random initialization, point-allocation and mean-relocation\n",
    "\n",
    "val = df.values\n",
    "\n",
    "def eucledian_sq_distance(x,mu):\n",
    "    return (x[0] - mu[0])**2 + (x[1] - mu[1])**2\n",
    "\n",
    "k = 2\n",
    "\n",
    "np.random.shuffle(val)\n",
    "mu1 = val[:k]\n",
    "print(mu1)\n",
    "mu = mu1.copy()\n",
    "p = 0\n",
    "while(np.array_equal(mu, mu1) or p==0):\n",
    "    p+=1\n",
    "    mu = mu1.copy()\n",
    "    for i in range(m):\n",
    "        ds = val[i]\n",
    "        min_val = 100000000\n",
    "        ind = -1\n",
    "        for j in range(k):\n",
    "            d = eucledian_sq_distance(ds, mu[j])\n",
    "            if(d<min_val):\n",
    "                ind = j\n",
    "                min_val = d\n",
    "        val[i][2] = ind\n",
    "    #Now, all values are assigned, let's reset the values of mu\n",
    "    temp_df = pd.DataFrame(data = {'x' : val[:,0], 'y' : val[:,1], 'type': val[:,2]})\n",
    "    temp_df.groupby(['type']).mean().sort_values('type')\n",
    "    mu1 = temp_df.iloc[:, 1].values\n",
    "    "
   ]
  },
  {
   "cell_type": "code",
   "execution_count": 7,
   "metadata": {},
   "outputs": [
    {
     "data": {
      "text/plain": [
       "<seaborn.axisgrid.FacetGrid at 0x2301990a250>"
      ]
     },
     "execution_count": 7,
     "metadata": {},
     "output_type": "execute_result"
    },
    {
     "data": {
      "image/png": "[encoded data removed]",
      "text/plain": [
       "<Figure size 418.125x360 with 1 Axes>"
      ]
     },
     "metadata": {
      "needs_background": "light"
     },
     "output_type": "display_data"
    }
   ],
   "source": [
    "df2 = pd.DataFrame(data = {'x' : val[:,0], 'y' : val[:,1], 'type': val[:,2]})\n",
    "sns.relplot(data = df2, x = 'x', y = 'y', hue = 'type')"
   ]
  },
  {
   "cell_type": "markdown",
   "metadata": {},
   "source": [
    "## It can be seen that the algorithm correctly clustered all the points in the data correctly. \n",
    "\n",
    "Accuracy was attained by running the algorithm multiple times. The above plot tells the most optimum results attained"
   ]
  }
 ],
 "metadata": {
  "kernelspec": {
   "display_name": "Python 3",
   "language": "python",
   "name": "python3"
  },
  "language_info": {
   "codemirror_mode": {
    "name": "ipython",
    "version": 3
   },
   "file_extension": ".py",
   "mimetype": "text/x-python",
   "name": "python",
   "nbconvert_exporter": "python",
   "pygments_lexer": "ipython3",
   "version": "3.8.3"
  }
 },
 "nbformat": 4,
 "nbformat_minor": 4
}
